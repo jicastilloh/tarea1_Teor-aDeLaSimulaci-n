{
 "cells": [
  {
   "cell_type": "markdown",
   "metadata": {},
   "source": [
    "# Selección del DataFrame\n",
    "\n",
    "### He decidido crear un DataFrame sobre las ventas de un hipermercado. \n",
    "\n",
    "Mi DataFrame estará compuesto por las siguientes columnas categóricas:\n",
    "- <b>Categoría:</b> Categoria del producto vendido.\n",
    "- <b>País:</b> País donde se realizó la venta (sucursal).\n",
    "\n",
    "Y la columna numérica:\n",
    "- <b>Precio Unitario:</b> Precio unitario del producto.\n",
    "- <b>Cantidad:</b> Cantidad comprada por producto.\n",
    "\n",
    "Esto nos lleva a que el nivel <b>granularidad</b> de mi DataFrame es de ventas realizadas, es decir, cada registro o fila en mi conjunto de datos se refiere a la información de una venta realizada."
   ]
  }
 ],
 "metadata": {
  "kernelspec": {
   "display_name": "Python 3",
   "language": "python",
   "name": "python3"
  },
  "language_info": {
   "codemirror_mode": {
    "name": "ipython",
    "version": 3
   },
   "file_extension": ".py",
   "mimetype": "text/x-python",
   "name": "python",
   "nbconvert_exporter": "python",
   "pygments_lexer": "ipython3",
   "version": "3.8.10"
  }
 },
 "nbformat": 4,
 "nbformat_minor": 2
}
